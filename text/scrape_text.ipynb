{
 "cells": [
  {
   "cell_type": "markdown",
   "metadata": {},
   "source": [
    "# Scraping text from bible.is"
   ]
  },
  {
   "cell_type": "code",
   "execution_count": 1,
   "metadata": {},
   "outputs": [],
   "source": [
    "import os, requests, re, time\n",
    "from bs4 import BeautifulSoup\n",
    "from tqdm.notebook import tqdm\n",
    "tqdm.pandas()"
   ]
  },
  {
   "cell_type": "code",
   "execution_count": 2,
   "metadata": {},
   "outputs": [],
   "source": [
    "root_url = 'https://live.bible.is'"
   ]
  },
  {
   "cell_type": "code",
   "execution_count": 3,
   "metadata": {},
   "outputs": [],
   "source": [
    "#New Testament\n",
    "#fr ref  : 1910 Louis Segond (Tresorsonore recording)\n",
    "#eng ref : King James version \n",
    "\n",
    "#change this to the language you want\n",
    "#language = ['/bible/ENGKJV', '/bible/FRNTLS']\n",
    "language =['/bible/FRNTLS']"
   ]
  },
  {
   "cell_type": "code",
   "execution_count": 9,
   "metadata": {},
   "outputs": [],
   "source": [
    "# New testament books\n",
    "\n",
    "book = ['MAT', 'MRK', 'LUK', 'JHN', 'ACT', 'ROM', '1CO', '2CO', 'GAL', 'EPH', 'PHP', 'COL',\n",
    "        '1TH', '2TH', '1TI', '2TI', 'TIT', 'PHM', 'HEB', 'JAS', '1PE', '2PE', '1JN', '2JN',\n",
    "        '3JN', 'JUD', 'REV']\n",
    "\n",
    "#Old + New testament books\n",
    "\n",
    "'''\n",
    "book = [\"GEN\", \"EXO\", \"LEV\", \"NUM\", \"DEU\", \"JOS\", \"JDG\", \"RUT\", \"1SA\", \"2SA\", \"1KI\", \"2KI\",\n",
    "        \"1CH\", \"2CH\", \"EZR\", \"NEH\", \"EST\", \"JOB\", \"PSA\", \"PRO\", \"ECC\", \"SNG\", \"ISA\", \"JER\",\n",
    "        \"LAM\", \"EZK\", \"DAN\", \"HOS\", \"JOL\", \"AMO\", \"OBA\", \"JON\", \"MIC\", \"NAM\", \"HAB\", \"ZEP\",\n",
    "        \"HAG\", \"ZEC\", \"MAL\",'MAT', 'MRK', 'LUK', 'JHN', 'ACT', 'ROM', '1CO', '2CO', 'GAL',\n",
    "        'EPH', 'PHP', 'COL','1TH', '2TH', '1TI', '2TI', 'TIT', 'PHM', 'HEB', 'JAS', '1PE',\n",
    "        '2PE', '1JN', '2JN','3JN', 'JUD', 'REV']\n",
    "'''"
   ]
  },
  {
   "cell_type": "code",
   "execution_count": 8,
   "metadata": {},
   "outputs": [],
   "source": [
    "# create a new directory\n",
    "try:\n",
    "    os.mkdir(f\"{os.curdir}\"+\"/text_Data/\")\n",
    "except FileExistsError:\n",
    "    pass\n",
    "# set the new directory as the current directory\n",
    "os.chdir(f\"{os.curdir}\"+\"/text_Data/\")\n",
    "\n",
    "cur_w_d = os.getcwd()"
   ]
  },
  {
   "cell_type": "code",
   "execution_count": 13,
   "metadata": {},
   "outputs": [
    {
     "data": {
      "text/plain": [
       "'C:\\\\Users\\\\Jamiil\\\\Documents\\\\Challenge\\\\AI4D-African Language Dataset Challenge\\\\text_Data'"
      ]
     },
     "execution_count": 13,
     "metadata": {},
     "output_type": "execute_result"
    }
   ],
   "source": [
    "# if you run the cell below, go and check the output at this path\n",
    "\n",
    "cur_w_d"
   ]
  },
  {
   "cell_type": "code",
   "execution_count": null,
   "metadata": {
    "scrolled": true
   },
   "outputs": [
    {
     "data": {
      "application/vnd.jupyter.widget-view+json": {
       "model_id": "c2681c6d811d49b692937d7bd05ded01",
       "version_major": 2,
       "version_minor": 0
      },
      "text/plain": [
       "HBox(children=(FloatProgress(value=0.0, description='lang', max=2.0, style=ProgressStyle(description_width='in…"
      ]
     },
     "metadata": {},
     "output_type": "display_data"
    },
    {
     "data": {
      "application/vnd.jupyter.widget-view+json": {
       "model_id": "fbba11c445a8488ca19454b55b8361da",
       "version_major": 2,
       "version_minor": 0
      },
      "text/plain": [
       "HBox(children=(FloatProgress(value=0.0, description='book', max=27.0, style=ProgressStyle(description_width='i…"
      ]
     },
     "metadata": {},
     "output_type": "display_data"
    },
    {
     "data": {
      "application/vnd.jupyter.widget-view+json": {
       "model_id": "b05ce9e787cc490a9ac1052077d7e3f2",
       "version_major": 2,
       "version_minor": 0
      },
      "text/plain": [
       "HBox(children=(FloatProgress(value=0.0, description='chapter', max=29.0, style=ProgressStyle(description_width…"
      ]
     },
     "metadata": {},
     "output_type": "display_data"
    },
    {
     "name": "stdout",
     "output_type": "stream",
     "text": [
      "\n"
     ]
    },
    {
     "data": {
      "application/vnd.jupyter.widget-view+json": {
       "model_id": "1bfe48889687454e98bd4166a96d649c",
       "version_major": 2,
       "version_minor": 0
      },
      "text/plain": [
       "HBox(children=(FloatProgress(value=0.0, description='chapter', max=29.0, style=ProgressStyle(description_width…"
      ]
     },
     "metadata": {},
     "output_type": "display_data"
    },
    {
     "name": "stdout",
     "output_type": "stream",
     "text": [
      "\n"
     ]
    },
    {
     "data": {
      "application/vnd.jupyter.widget-view+json": {
       "model_id": "79fb6f4d48cc489eb0628ccbe3c8ff1e",
       "version_major": 2,
       "version_minor": 0
      },
      "text/plain": [
       "HBox(children=(FloatProgress(value=0.0, description='chapter', max=29.0, style=ProgressStyle(description_width…"
      ]
     },
     "metadata": {},
     "output_type": "display_data"
    },
    {
     "name": "stdout",
     "output_type": "stream",
     "text": [
      "\n"
     ]
    },
    {
     "data": {
      "application/vnd.jupyter.widget-view+json": {
       "model_id": "809ba27001e349aa9e0dedddf837c4ce",
       "version_major": 2,
       "version_minor": 0
      },
      "text/plain": [
       "HBox(children=(FloatProgress(value=0.0, description='chapter', max=29.0, style=ProgressStyle(description_width…"
      ]
     },
     "metadata": {},
     "output_type": "display_data"
    },
    {
     "name": "stdout",
     "output_type": "stream",
     "text": [
      "\n"
     ]
    },
    {
     "data": {
      "application/vnd.jupyter.widget-view+json": {
       "model_id": "f323c6de78e64109bb2a895aa6226cc0",
       "version_major": 2,
       "version_minor": 0
      },
      "text/plain": [
       "HBox(children=(FloatProgress(value=0.0, description='chapter', max=29.0, style=ProgressStyle(description_width…"
      ]
     },
     "metadata": {},
     "output_type": "display_data"
    }
   ],
   "source": [
    "%%time\n",
    "lines = []\n",
    "for i in tqdm(range(len(language)), desc='lang'):\n",
    "    try:\n",
    "        create_lang_dir = cur_w_d+\"/\"+ language[i].split('/')[-1] +\"/\"\n",
    "        os.mkdir(create_lang_dir)\n",
    "    except FileExistsError:\n",
    "        pass\n",
    "    for j in tqdm(range(len(book)), desc='book'):\n",
    "        urls = []\n",
    "        url = root_url + language[i] + \"/\" + book[j] + \"/\"\n",
    "        urls.append(url)\n",
    "        try:\n",
    "            create_book_dir = cur_w_d+\"/\"+language[i].split('/')[-1] +\"/\"+ book[j]+\"/\" \n",
    "            os.mkdir(create_book_dir)\n",
    "        except FileExistsError:\n",
    "            pass\n",
    "        \n",
    "        #book_of_nt = []\n",
    "        for url_item in urls:\n",
    "            for k in tqdm(range(1,30), desc='chapter'): # Set the max number of chapter per book to 30 \n",
    "                page = url_item + str(k)\n",
    "                #print(page)\n",
    "                response = requests.get(page)\n",
    "                if response.url == page :\n",
    "                    #print(response) # display 200 meaning that we successfully access the link\n",
    "                    soup = BeautifulSoup(response.content, \"html.parser\")\n",
    "                    verses = soup.find_all(\"span\", {\"class\": \"\"})\n",
    "                    verses_of_nt = [verse.text for verse in verses]\n",
    "                    verses_of_nt_prep = verses_of_nt[:-15] # a little preprocessing step\n",
    "                    #book_of_nt.append(verses_of_nt_prep)\n",
    "                    \n",
    "                    create_chapter_file_name = cur_w_d+\"/\"+language[i].split('/')[-1] +\"/\"+ book[j]+\"/\"+book[j]+\"_chap_\"+str(k)\n",
    "\n",
    "                    with open(create_chapter_file_name+'.txt', 'a') as file: # specified the name of the file\n",
    "                        for verse_no, line in enumerate(iterable=verses_of_nt_prep, start=1):\n",
    "                            file.write(\"( \"+book[j]+\" \"+str(k)+\":\" +str(verse_no)+\" ), \")\n",
    "                            if line !=\"-\":\n",
    "                                file.write(line)\n",
    "                                lines.append(line) # for further preprocessing steps\n",
    "                            else:\n",
    "                                file.write(\"Interlude\")\n",
    "                                lines.append(\"Interlude\") #for further preprocessing steps\n",
    "                            file.write('\\n')\n",
    "                            \n",
    "                else :\n",
    "                    #print(\"<Response [404]>\") # Because links don't overflow we instead get back to square 1\n",
    "                    break\n",
    "    print(\"Youpi! 1 minute break \\n\",30*\"=\")\n",
    "    time.sleep(60)\n",
    "print(\"DONE\")"
   ]
  }
 ],
 "metadata": {
  "kernelspec": {
   "display_name": "Python 3",
   "language": "python",
   "name": "python3"
  },
  "language_info": {
   "codemirror_mode": {
    "name": "ipython",
    "version": 3
   },
   "file_extension": ".py",
   "mimetype": "text/x-python",
   "name": "python",
   "nbconvert_exporter": "python",
   "pygments_lexer": "ipython3",
   "version": "3.7.3"
  }
 },
 "nbformat": 4,
 "nbformat_minor": 4
}
